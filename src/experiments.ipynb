{
 "cells": [
  {
   "cell_type": "code",
   "execution_count": 1,
   "metadata": {},
   "outputs": [],
   "source": [
    "from ai_vs_ai import ai_vs_ai\n",
    "import json"
   ]
  },
  {
   "cell_type": "markdown",
   "metadata": {},
   "source": [
    "# First experiment: AI vs AI "
   ]
  },
  {
   "cell_type": "markdown",
   "metadata": {},
   "source": [
    "In these experiments, two AIs will play against each other. One will use the minimax and the other alpha-beta prouning algorithms. \n",
    "They will play 10 times, changing the depth from 1 to 4 and the winner will be recorded on each iteration.\n",
    "\n",
    "Note: in the cell output below there are some experiments with a depth of 5, however I stopped it and decided to go with 4 because it was taking too much time."
   ]
  },
  {
   "cell_type": "code",
   "execution_count": null,
   "metadata": {},
   "outputs": [],
   "source": [
    "experiments = []\n",
    "n_experiments = 10\n",
    "max_depth = 4\n",
    "\n",
    "for depth in range(1, max_depth + 1):\n",
    "    for exp in range(n_experiments):\n",
    "        exp_result = ai_vs_ai(algorithm_ai1 = \"minimax\", depth_ai1 = depth, algorithm_ai2= \"alpha-beta\", depth_ai2 = depth)\n",
    "        print(\"Depth:\", depth, \"Experiment:\", exp, \"Winner: \", exp_result[\"winner\"], \"Player1: \", exp_result[\"player1\"])\n",
    "        experiments.append({\"depth\": depth, \"experiment\":exp, \"winner\": exp_result[\"winner\"], \"player1\": exp_result[\"player1\"]})\n",
    "\n",
    "    # Save results\n",
    "    with open(\"experiments/ai_vs_ai.json\", \"w\") as f:\n",
    "        json.dump(experiments, f)"
   ]
  },
  {
   "cell_type": "markdown",
   "metadata": {},
   "source": [
    "# Second experiment: AI vs human (online)"
   ]
  },
  {
   "cell_type": "markdown",
   "metadata": {},
   "source": [
    "In these experiments, one AIs will play against a human. I am not a good connect 4 player, so to make it more interesting, the AI will play online in the webpage https://boardgames.io/en/connect4. \n",
    "I will manually log the movements that the oponent did in the app on the terminal, and the AI moves that the AI makes will be my moves in the webpage. I will do 3 games with minimax and 3 with alpha-beta prouning algorithms, both with a depth of 4. "
   ]
  },
  {
   "cell_type": "code",
   "execution_count": 8,
   "metadata": {},
   "outputs": [],
   "source": [
    "# To run the app, use the script play_vs_ai.py\n",
    "experiments2 = []\n",
    "\n",
    "# Experiments with minimax\n",
    "experiments2.append({\"experiment\":0, \"winner\": \"Human\", \"player1\": \"AI\" , \"algorithm_ai\" : \"minimax\"})\n",
    "experiments2.append({\"experiment\":1, \"winner\": \"Human\", \"player1\": \"AI\" , \"algorithm_ai\" : \"minimax\"})\n",
    "experiments2.append({\"experiment\":2, \"winner\": \"AI\", \"player1\": \"Human\", \"algorithm_ai\" : \"minimax\"})\n",
    "\n",
    "# Experiments with alpha-beta\n",
    "experiments2.append({\"experiment\":3, \"winner\": \"Human\", \"player1\": \"AI\" , \"algorithm_ai\" : \"alpha-beta\"})\n",
    "experiments2.append({\"experiment\":4, \"winner\": \"Human\", \"player1\": \"Human\", \"algorithm_ai\" : \"alpha-beta\"})\n",
    "experiments2.append({\"experiment\":5, \"winner\": \"Human\", \"player1\": \"Human\", \"algorithm_ai\" : \"alpha-beta\"})\n",
    "\n",
    "with open(\"experiments/ai_vs_human.json\", \"w\") as f:\n",
    "    json.dump(experiments2, f)"
   ]
  }
 ],
 "metadata": {
  "kernelspec": {
   "display_name": "default-tensorflow-cpu-1.15.0",
   "language": "python",
   "name": "python3"
  },
  "language_info": {
   "codemirror_mode": {
    "name": "ipython",
    "version": 3
   },
   "file_extension": ".py",
   "mimetype": "text/x-python",
   "name": "python",
   "nbconvert_exporter": "python",
   "pygments_lexer": "ipython3",
   "version": "3.9.13"
  },
  "orig_nbformat": 4,
  "vscode": {
   "interpreter": {
    "hash": "ecad47c8c286fed26d4ae5802cb63050fcac3d2b20bbf22f0a217157042a2efc"
   }
  }
 },
 "nbformat": 4,
 "nbformat_minor": 2
}
